{
 "cells": [
  {
   "cell_type": "markdown",
   "id": "5c517595",
   "metadata": {},
   "source": [
    "# Data serialization formats\n",
    "\n",
    "In this chapter we present YAML, JSON, and XML, 3 widely used generic hierarchical data formats, useful to export/import custom data to/from an application.\n",
    "\n",
    "## Custom data\n",
    "\n",
    "Here is some custom data that we would like to save on disk and reload later in our application:"
   ]
  },
  {
   "cell_type": "code",
   "execution_count": 1,
   "id": "855355a3",
   "metadata": {
    "execution": {
     "iopub.execute_input": "2023-01-17T12:12:30.567917Z",
     "iopub.status.busy": "2023-01-17T12:12:30.567463Z",
     "iopub.status.idle": "2023-01-17T12:12:30.582002Z",
     "shell.execute_reply": "2023-01-17T12:12:30.581230Z"
    }
   },
   "outputs": [],
   "source": [
    "maze = {\n",
    "    'height': 5,\n",
    "    'width': 5,\n",
    "    'cell_type': 'wall',\n",
    "    'cells': [(0,0), (0,2), (0, 4), (1,0), (2,2), (2,3), (3,4), (4,0), (4,4)]\n",
    "}"
   ]
  },
  {
   "cell_type": "markdown",
   "id": "576a23d1",
   "metadata": {},
   "source": [
    "Instead of designing our own custom file format we will see how we can export and import this custom data using YAML, JSON and XML.\n",
    "\n",
    "## JSON\n",
    "\n",
    "```{note}\n",
    ":class: margin\n",
    "See *json* package documentation at <https://docs.python.org/3/library/json.html>.\n",
    "```\n",
    "\n",
    "The `json` module handles export and import of data in [JSON](https://en.wikipedia.org/wiki/JSON) format.\n",
    "\n",
    "We can convert our data object into a JSON string with the following simple command:"
   ]
  },
  {
   "cell_type": "code",
   "execution_count": 2,
   "id": "24c26bc9",
   "metadata": {
    "execution": {
     "iopub.execute_input": "2023-01-17T12:12:30.585527Z",
     "iopub.status.busy": "2023-01-17T12:12:30.585240Z",
     "iopub.status.idle": "2023-01-17T12:12:30.594399Z",
     "shell.execute_reply": "2023-01-17T12:12:30.593938Z"
    }
   },
   "outputs": [
    {
     "data": {
      "text/plain": [
       "'{\"height\": 5, \"width\": 5, \"cell_type\": \"wall\", \"cells\": [[0, 0], [0, 2], [0, 4], [1, 0], [2, 2], [2, 3], [3, 4], [4, 0], [4, 4]]}'"
      ]
     },
     "execution_count": 2,
     "metadata": {},
     "output_type": "execute_result"
    }
   ],
   "source": [
    "import json\n",
    "json.dumps(maze)"
   ]
  },
  {
   "cell_type": "markdown",
   "id": "d3c05830",
   "metadata": {},
   "source": [
    "The format looks very much like Python syntax.\n",
    "```{important}\n",
    "In our example, the tuples have been converted to lists. JSON does not distinguish between those two Python specific data structures.\n",
    "```\n",
    "\n",
    "To save the JSON into a file, we must first open the destination file:"
   ]
  },
  {
   "cell_type": "code",
   "execution_count": 3,
   "id": "dcb4d72b",
   "metadata": {
    "execution": {
     "iopub.execute_input": "2023-01-17T12:12:30.596449Z",
     "iopub.status.busy": "2023-01-17T12:12:30.596322Z",
     "iopub.status.idle": "2023-01-17T12:12:30.598682Z",
     "shell.execute_reply": "2023-01-17T12:12:30.598380Z"
    }
   },
   "outputs": [],
   "source": [
    "with open(\"maze.json\", 'w') as f:\n",
    "    json.dump(maze, f, indent=4)"
   ]
  },
  {
   "cell_type": "markdown",
   "id": "5cb5da91",
   "metadata": {},
   "source": [
    "```{caution}\n",
    ":class: margin\n",
    "Note the names of the two functions: `dumps()` with a final s for *string* and `dump()` without a final s for exporting into a file.\n",
    "```\n",
    "\n",
    "We have used the `indent=4` argument in order to \"pretty print\" (i.e.: to print in a more human-readable format) into the file. You can look at the result here:"
   ]
  },
  {
   "cell_type": "code",
   "execution_count": 4,
   "id": "8d34a8d2",
   "metadata": {
    "execution": {
     "iopub.execute_input": "2023-01-17T12:12:30.600369Z",
     "iopub.status.busy": "2023-01-17T12:12:30.600231Z",
     "iopub.status.idle": "2023-01-17T12:12:30.711287Z",
     "shell.execute_reply": "2023-01-17T12:12:30.709518Z"
    },
    "tags": [
     "hide-cell"
    ]
   },
   "outputs": [
    {
     "name": "stdout",
     "output_type": "stream",
     "text": [
      "{\r\n",
      "    \"height\": 5,\r\n",
      "    \"width\": 5,\r\n",
      "    \"cell_type\": \"wall\",\r\n",
      "    \"cells\": [\r\n",
      "        [\r\n",
      "            0,\r\n",
      "            0\r\n",
      "        ],\r\n",
      "        [\r\n",
      "            0,\r\n",
      "            2\r\n",
      "        ],\r\n",
      "        [\r\n",
      "            0,\r\n",
      "            4\r\n",
      "        ],\r\n",
      "        [\r\n",
      "            1,\r\n",
      "            0\r\n",
      "        ],\r\n",
      "        [\r\n",
      "            2,\r\n",
      "            2\r\n",
      "        ],\r\n",
      "        [\r\n",
      "            2,\r\n",
      "            3\r\n",
      "        ],\r\n",
      "        [\r\n",
      "            3,\r\n",
      "            4\r\n",
      "        ],\r\n",
      "        [\r\n",
      "            4,\r\n",
      "            0\r\n",
      "        ],\r\n",
      "        [\r\n",
      "            4,\r\n",
      "            4\r\n",
      "        ]\r\n",
      "    ]\r\n",
      "}"
     ]
    }
   ],
   "source": [
    "!cat maze.json"
   ]
  },
  {
   "cell_type": "markdown",
   "id": "8f055e7d",
   "metadata": {},
   "source": [
    "Loading the data back from the file is done by calling `json.load()`:\n",
    "```{tip}\n",
    ":class: margin\n",
    "Loading from a string is done with `json.loads()`.\n",
    "```"
   ]
  },
  {
   "cell_type": "code",
   "execution_count": 5,
   "id": "4816fc68",
   "metadata": {
    "execution": {
     "iopub.execute_input": "2023-01-17T12:12:30.716980Z",
     "iopub.status.busy": "2023-01-17T12:12:30.716546Z",
     "iopub.status.idle": "2023-01-17T12:12:30.723744Z",
     "shell.execute_reply": "2023-01-17T12:12:30.722728Z"
    }
   },
   "outputs": [
    {
     "name": "stdout",
     "output_type": "stream",
     "text": [
      "{'height': 5, 'width': 5, 'cell_type': 'wall', 'cells': [[0, 0], [0, 2], [0, 4], [1, 0], [2, 2], [2, 3], [3, 4], [4, 0], [4, 4]]}\n"
     ]
    }
   ],
   "source": [
    "with open(\"maze.json\", 'r') as f:\n",
    "    maze_from_json = json.load(f)\n",
    "    print(maze_from_json)"
   ]
  },
  {
   "cell_type": "markdown",
   "id": "df573e3c",
   "metadata": {},
   "source": [
    "```{warning}\n",
    "The initial tuples are not rebuilt. Instead we get `list` objects.\n",
    "This is because, as noted earlier, JSON does not handle tuples but only lists.\n",
    "The reason is that a `tuple` is an immutable list in Python, and mutability is a concept which only has sense during the execution of a code.\n",
    "Inside a data file, mutability has no sense since everything is frozen.\n",
    "```\n",
    "The loss of the `tuple` information is not concerning.\n",
    "Usually, before writing the JSON file, we have a stage where we collect all information needed to be saved.\n",
    "On load time, we have an equivalent stage where we may run any transformation process that will rebuild original objects.\n",
    "\n",
    "## YAML\n",
    "\n",
    "```{note}\n",
    ":class: margin\n",
    "See *PyYAML* package documentation at <https://pyyaml.org/wiki/PyYAMLDocumentation>.\n",
    "```\n",
    "\n",
    "`pyyaml` module *PyYAML*"
   ]
  },
  {
   "cell_type": "code",
   "execution_count": 6,
   "id": "73274166",
   "metadata": {
    "execution": {
     "iopub.execute_input": "2023-01-17T12:12:30.727785Z",
     "iopub.status.busy": "2023-01-17T12:12:30.727418Z",
     "iopub.status.idle": "2023-01-17T12:12:30.749334Z",
     "shell.execute_reply": "2023-01-17T12:12:30.749000Z"
    }
   },
   "outputs": [
    {
     "name": "stdout",
     "output_type": "stream",
     "text": [
      "cell_type: wall\n",
      "cells:\n",
      "- !!python/tuple\n",
      "  - 0\n",
      "  - 0\n",
      "- !!python/tuple\n",
      "  - 0\n",
      "  - 2\n",
      "- !!python/tuple\n",
      "  - 0\n",
      "  - 4\n",
      "- !!python/tuple\n",
      "  - 1\n",
      "  - 0\n",
      "- !!python/tuple\n",
      "  - 2\n",
      "  - 2\n",
      "- !!python/tuple\n",
      "  - 2\n",
      "  - 3\n",
      "- !!python/tuple\n",
      "  - 3\n",
      "  - 4\n",
      "- !!python/tuple\n",
      "  - 4\n",
      "  - 0\n",
      "- !!python/tuple\n",
      "  - 4\n",
      "  - 4\n",
      "height: 5\n",
      "width: 5\n",
      "\n"
     ]
    }
   ],
   "source": [
    "import yaml\n",
    "print(yaml.dump(maze))"
   ]
  },
  {
   "cell_type": "code",
   "execution_count": 7,
   "id": "f8665fcc",
   "metadata": {
    "execution": {
     "iopub.execute_input": "2023-01-17T12:12:30.751189Z",
     "iopub.status.busy": "2023-01-17T12:12:30.751040Z",
     "iopub.status.idle": "2023-01-17T12:12:30.754194Z",
     "shell.execute_reply": "2023-01-17T12:12:30.753862Z"
    }
   },
   "outputs": [
    {
     "name": "stdout",
     "output_type": "stream",
     "text": [
      "cell_type: wall\n",
      "cells:\n",
      "- - 0\n",
      "  - 0\n",
      "- - 0\n",
      "  - 2\n",
      "- - 0\n",
      "  - 4\n",
      "- - 1\n",
      "  - 0\n",
      "- - 2\n",
      "  - 2\n",
      "- - 2\n",
      "  - 3\n",
      "- - 3\n",
      "  - 4\n",
      "- - 4\n",
      "  - 0\n",
      "- - 4\n",
      "  - 4\n",
      "height: 5\n",
      "width: 5\n",
      "\n"
     ]
    }
   ],
   "source": [
    "print(yaml.safe_dump(maze))"
   ]
  },
  {
   "cell_type": "code",
   "execution_count": 8,
   "id": "c20a9611",
   "metadata": {
    "execution": {
     "iopub.execute_input": "2023-01-17T12:12:30.756065Z",
     "iopub.status.busy": "2023-01-17T12:12:30.755923Z",
     "iopub.status.idle": "2023-01-17T12:12:30.758899Z",
     "shell.execute_reply": "2023-01-17T12:12:30.758581Z"
    }
   },
   "outputs": [],
   "source": [
    "with open(\"maze.yml\", \"w\") as f:\n",
    "    yaml.dump(maze, f)"
   ]
  },
  {
   "cell_type": "code",
   "execution_count": 9,
   "id": "69e79afe",
   "metadata": {
    "execution": {
     "iopub.execute_input": "2023-01-17T12:12:30.760814Z",
     "iopub.status.busy": "2023-01-17T12:12:30.760569Z",
     "iopub.status.idle": "2023-01-17T12:12:30.870716Z",
     "shell.execute_reply": "2023-01-17T12:12:30.869307Z"
    },
    "tags": [
     "hide-input"
    ]
   },
   "outputs": [
    {
     "name": "stdout",
     "output_type": "stream",
     "text": [
      "cell_type: wall\r\n",
      "cells:\r\n",
      "- !!python/tuple\r\n",
      "  - 0\r\n",
      "  - 0\r\n",
      "- !!python/tuple\r\n",
      "  - 0\r\n",
      "  - 2\r\n",
      "- !!python/tuple\r\n",
      "  - 0\r\n",
      "  - 4\r\n",
      "- !!python/tuple\r\n",
      "  - 1\r\n",
      "  - 0\r\n",
      "- !!python/tuple\r\n",
      "  - 2\r\n",
      "  - 2\r\n",
      "- !!python/tuple\r\n",
      "  - 2\r\n",
      "  - 3\r\n",
      "- !!python/tuple\r\n",
      "  - 3\r\n",
      "  - 4\r\n",
      "- !!python/tuple\r\n",
      "  - 4\r\n",
      "  - 0\r\n",
      "- !!python/tuple\r\n",
      "  - 4\r\n",
      "  - 4\r\n",
      "height: 5\r\n",
      "width: 5\r\n"
     ]
    }
   ],
   "source": [
    "!cat maze.yml"
   ]
  },
  {
   "cell_type": "markdown",
   "id": "9ba55e9c",
   "metadata": {},
   "source": [
    "<!-- TODO Load -->"
   ]
  },
  {
   "cell_type": "code",
   "execution_count": 10,
   "id": "fb050a24",
   "metadata": {
    "execution": {
     "iopub.execute_input": "2023-01-17T12:12:30.876437Z",
     "iopub.status.busy": "2023-01-17T12:12:30.876003Z",
     "iopub.status.idle": "2023-01-17T12:12:30.887206Z",
     "shell.execute_reply": "2023-01-17T12:12:30.886166Z"
    }
   },
   "outputs": [
    {
     "name": "stdout",
     "output_type": "stream",
     "text": [
      "{'cell_type': 'wall', 'cells': [(0, 0), (0, 2), (0, 4), (1, 0), (2, 2), (2, 3), (3, 4), (4, 0), (4, 4)], 'height': 5, 'width': 5}\n"
     ]
    }
   ],
   "source": [
    "with open(\"maze.yml\", \"r\") as f:\n",
    "    maze_from_yaml = yaml.load(f, Loader=yaml.Loader)\n",
    "    print(maze_from_yaml)"
   ]
  },
  {
   "cell_type": "markdown",
   "id": "4be17a44",
   "metadata": {},
   "source": [
    "## XML\n",
    "\n",
    "xml package <https://docs.python.org/3/library/xml.html>\n",
    "\n",
    "## Hands-on work\n",
    "\n",
    "```{admonition} Exercice\n",
    "Use one of YAML, JSON or XML to save and load your custom data format in one of the class projects.\n",
    "```"
   ]
  }
 ],
 "metadata": {
  "jupytext": {
   "cell_metadata_filter": "-all"
  },
  "kernelspec": {
   "display_name": "Python",
   "language": "python",
   "name": "python3"
  },
  "language_info": {
   "codemirror_mode": {
    "name": "ipython",
    "version": 3
   },
   "file_extension": ".py",
   "mimetype": "text/x-python",
   "name": "python",
   "nbconvert_exporter": "python",
   "pygments_lexer": "ipython3",
   "version": "3.10.0"
  }
 },
 "nbformat": 4,
 "nbformat_minor": 5
}

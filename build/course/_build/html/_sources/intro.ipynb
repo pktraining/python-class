{
 "cells": [
  {
   "cell_type": "markdown",
   "id": "00797900",
   "metadata": {},
   "source": [
    "# Introduction\n",
    "\n",
    "This course is about the [Python](https://www.python.org/) language.\n",
    "\n",
    "```{tableofcontents}\n",
    "```"
   ]
  }
 ],
 "metadata": {
  "jupytext": {
   "cell_metadata_filter": "-all",
   "main_language": "python",
   "notebook_metadata_filter": "-all"
  },
  "language_info": {
   "codemirror_mode": {
    "name": "ipython",
    "version": 3
   },
   "file_extension": ".py",
   "mimetype": "text/x-python",
   "name": "python",
   "nbconvert_exporter": "python",
   "pygments_lexer": "ipython3",
   "version": "3.10.0"
  }
 },
 "nbformat": 4,
 "nbformat_minor": 5
}
